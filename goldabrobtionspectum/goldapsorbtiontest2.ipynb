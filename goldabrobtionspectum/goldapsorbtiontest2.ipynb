{
 "cells": [
  {
   "cell_type": "code",
   "execution_count": 1,
   "metadata": {},
   "outputs": [],
   "source": [
    "from __future__ import division\n",
    "import meep as mp\n",
    "import matplotlib.pyplot as plt\n",
    "import numpy as np\n",
    "import math\n",
    "from meep.materials import Au"
   ]
  },
  {
   "cell_type": "markdown",
   "metadata": {},
   "source": [
    "# At above all required libraries are added"
   ]
  },
  {
   "cell_type": "code",
   "execution_count": 2,
   "metadata": {},
   "outputs": [],
   "source": [
    "pml_layers= [mp.PML(1)]\n",
    "Au = mp.Medium(index=math.pow(6.9,(1/2)))\n",
    "dpml=1\n",
    "sx=7\n",
    "cell = mp.Vector3(7,2.04)\n",
    "minwavelength=0.4\n",
    "maxwavelength=0.8\n",
    "minf=1/maxwavelength\n",
    "maxf=1/minwavelength\n",
    "fcen = (maxf+minf)/2  \n",
    "df = maxf-minf\n",
    "nfreq=100\n",
    "resolution = 50"
   ]
  },
  {
   "cell_type": "markdown",
   "metadata": {},
   "source": [
    "# Here definintions are made \n",
    "cellsize,pml,gold,frequencies,resolution"
   ]
  },
  {
   "cell_type": "code",
   "execution_count": 3,
   "metadata": {},
   "outputs": [],
   "source": [
    "sources = [mp.Source(mp.GaussianSource(fcen,fwidth=df),\n",
    "                     component=mp.Ez,\n",
    "                     center=mp.Vector3(-2.5,0,0),\n",
    "                     size=mp.Vector3(0,0.5,0))]\n",
    "lightside_without_flux = []\n",
    "otherside_without_flux = []\n",
    "upperside_without_flux = []\n",
    "lightside_with_flux = []\n",
    "otherside_with_flux = []\n",
    "upperside_with_flux = []"
   ]
  },
  {
   "cell_type": "markdown",
   "metadata": {},
   "source": [
    "source is definied and empty fluxs arrays are generated"
   ]
  },
  {
   "cell_type": "code",
   "execution_count": 4,
   "metadata": {},
   "outputs": [
    {
     "name": "stdout",
     "output_type": "stream",
     "text": [
      "-----------\n",
      "Initializing structure...\n",
      "time for choose_chunkdivision = 0.000134945 s\n",
      "Working in 2D dimensions.\n",
      "Computational cell is 7 x 2.04 x 0 with resolution 50\n",
      "time for set_epsilon = 0.042428 s\n",
      "-----------\n",
      "field decay(t = 50.01): 0.026193528897848338 / 0.026193528897848338 = 1.0\n",
      "field decay(t = 100.01): 3.543071945147124e-16 / 0.026193528897848338 = 1.3526516258899994e-14\n",
      "run 0 finished at t = 100.01 (10001 timesteps)\n",
      "-----------\n",
      "Initializing structure...\n",
      "time for choose_chunkdivision = 0.000147104 s\n",
      "Working in 2D dimensions.\n",
      "Computational cell is 7 x 2.04 x 0 with resolution 50\n",
      "     cylinder, center = (0,0,0)\n",
      "          radius 0.02, height 1e+20, axis (0, 0, 1)\n",
      "          dielectric constant epsilon diagonal = (6.9,6.9,6.9)\n",
      "time for set_epsilon = 0.0509071 s\n",
      "-----------\n",
      "field decay(t = 50.01): 0.027829112593620343 / 0.027829112593620343 = 1.0\n",
      "field decay(t = 100.01): 3.1149607578849956e-16 / 0.027829112593620343 = 1.1193173147026907e-14\n",
      "run 0 finished at t = 100.01 (10001 timesteps)\n",
      "-----------\n",
      "Initializing structure...\n",
      "time for choose_chunkdivision = 0.000155926 s\n",
      "Working in 2D dimensions.\n",
      "Computational cell is 7 x 2.04 x 0 with resolution 50\n",
      "time for set_epsilon = 0.044554 s\n",
      "-----------\n",
      "field decay(t = 50.01): 0.026193528897848338 / 0.026193528897848338 = 1.0\n",
      "field decay(t = 100.01): 3.543071945147124e-16 / 0.026193528897848338 = 1.3526516258899994e-14\n",
      "run 0 finished at t = 100.01 (10001 timesteps)\n",
      "-----------\n",
      "Initializing structure...\n",
      "time for choose_chunkdivision = 0.000133038 s\n",
      "Working in 2D dimensions.\n",
      "Computational cell is 7 x 2.04 x 0 with resolution 50\n",
      "     cylinder, center = (0,0,0)\n",
      "          radius 0.04, height 1e+20, axis (0, 0, 1)\n",
      "          dielectric constant epsilon diagonal = (6.9,6.9,6.9)\n",
      "time for set_epsilon = 0.049962 s\n",
      "-----------\n",
      "field decay(t = 50.01): 0.02319334019953894 / 0.02319334019953894 = 1.0\n",
      "field decay(t = 100.01): 2.94110120586739e-16 / 0.02319334019953894 = 1.2680800525341564e-14\n",
      "run 0 finished at t = 100.01 (10001 timesteps)\n",
      "-----------\n",
      "Initializing structure...\n",
      "time for choose_chunkdivision = 0.000161886 s\n",
      "Working in 2D dimensions.\n",
      "Computational cell is 7 x 2.04 x 0 with resolution 50\n",
      "time for set_epsilon = 0.0431771 s\n",
      "-----------\n",
      "field decay(t = 50.01): 0.026193528897848338 / 0.026193528897848338 = 1.0\n",
      "field decay(t = 100.01): 3.543071945147124e-16 / 0.026193528897848338 = 1.3526516258899994e-14\n",
      "run 0 finished at t = 100.01 (10001 timesteps)\n",
      "-----------\n",
      "Initializing structure...\n",
      "time for choose_chunkdivision = 0.000131845 s\n",
      "Working in 2D dimensions.\n",
      "Computational cell is 7 x 2.04 x 0 with resolution 50\n",
      "     cylinder, center = (0,0,0)\n",
      "          radius 0.06, height 1e+20, axis (0, 0, 1)\n",
      "          dielectric constant epsilon diagonal = (6.9,6.9,6.9)\n",
      "time for set_epsilon = 0.044034 s\n",
      "-----------\n",
      "field decay(t = 50.01): 0.02273214473647487 / 0.02273214473647487 = 1.0\n",
      "field decay(t = 100.01): 2.934119266441898e-16 / 0.02273214473647487 = 1.2907357842632228e-14\n",
      "run 0 finished at t = 100.01 (10001 timesteps)\n",
      "-----------\n",
      "Initializing structure...\n",
      "time for choose_chunkdivision = 0.000154018 s\n",
      "Working in 2D dimensions.\n",
      "Computational cell is 7 x 2.04 x 0 with resolution 50\n",
      "time for set_epsilon = 0.042908 s\n",
      "-----------\n",
      "field decay(t = 50.01): 0.026193528897848338 / 0.026193528897848338 = 1.0\n",
      "field decay(t = 100.01): 3.543071945147124e-16 / 0.026193528897848338 = 1.3526516258899994e-14\n",
      "run 0 finished at t = 100.01 (10001 timesteps)\n",
      "-----------\n",
      "Initializing structure...\n",
      "time for choose_chunkdivision = 0.000132084 s\n",
      "Working in 2D dimensions.\n",
      "Computational cell is 7 x 2.04 x 0 with resolution 50\n",
      "     cylinder, center = (0,0,0)\n",
      "          radius 0.08, height 1e+20, axis (0, 0, 1)\n",
      "          dielectric constant epsilon diagonal = (6.9,6.9,6.9)\n",
      "time for set_epsilon = 0.0497172 s\n",
      "-----------\n",
      "field decay(t = 50.01): 0.012063024245412005 / 0.012063024245412005 = 1.0\n",
      "field decay(t = 100.01): 2.717772498289154e-16 / 0.012063024245412005 = 2.2529777301266878e-14\n",
      "run 0 finished at t = 100.01 (10001 timesteps)\n",
      "-----------\n",
      "Initializing structure...\n",
      "time for choose_chunkdivision = 0.000155926 s\n",
      "Working in 2D dimensions.\n",
      "Computational cell is 7 x 2.04 x 0 with resolution 50\n",
      "time for set_epsilon = 0.044076 s\n",
      "-----------\n",
      "field decay(t = 50.01): 0.026193528897848338 / 0.026193528897848338 = 1.0\n",
      "on time step 9107 (time=91.07), 0.000439259 s/step\n",
      "field decay(t = 100.01): 3.543071945147124e-16 / 0.026193528897848338 = 1.3526516258899994e-14\n",
      "run 0 finished at t = 100.01 (10001 timesteps)\n",
      "-----------\n",
      "Initializing structure...\n",
      "time for choose_chunkdivision = 0.000159979 s\n",
      "Working in 2D dimensions.\n",
      "Computational cell is 7 x 2.04 x 0 with resolution 50\n",
      "     cylinder, center = (0,0,0)\n",
      "          radius 0.1, height 1e+20, axis (0, 0, 1)\n",
      "          dielectric constant epsilon diagonal = (6.9,6.9,6.9)\n",
      "time for set_epsilon = 0.052578 s\n",
      "-----------\n",
      "field decay(t = 50.01): 0.007791875580557093 / 0.007791875580557093 = 1.0\n",
      "on time step 8337 (time=83.37), 0.000479804 s/step\n",
      "field decay(t = 100.01): 2.566815361897202e-16 / 0.007791875580557093 = 3.294220159652092e-14\n",
      "run 0 finished at t = 100.01 (10001 timesteps)\n"
     ]
    }
   ],
   "source": [
    "for i in (np.arange(1,6)):\n",
    "    r=i*0.02\n",
    "    sim = mp.Simulation(cell_size=cell,\n",
    "                    boundary_layers=pml_layers,\n",
    "                    sources=sources,\n",
    "                    resolution=resolution)\n",
    "    lightside_fr = mp.FluxRegion(center=mp.Vector3(-0.2), \n",
    "                             size=mp.Vector3(0,0.4,0))\n",
    "    lightside = sim.add_flux(fcen, df ,nfreq,lightside_fr)\n",
    "    otherside_fr = mp.FluxRegion(center=mp.Vector3(+0.2), \n",
    "                             size=mp.Vector3(0,0.4,0))\n",
    "    otherside = sim.add_flux(fcen, df ,nfreq,otherside_fr)\n",
    "    upperside_fr = mp.FluxRegion(center=mp.Vector3(0,0.4),\n",
    "                                    size=mp.Vector3(0.4,0,0)) \n",
    "    upperside = sim.add_flux(fcen,df,nfreq,upperside_fr)\n",
    "    pt = mp.Vector3(0.5*sx-dpml-0.5,0)\n",
    "    sim.run(until_after_sources=mp.stop_when_fields_decayed(50,mp.Ez,pt,1e-3))\n",
    "    lightside_without_flux = np.append(lightside_without_flux,mp.get_fluxes(lightside))\n",
    "    otherside_without_flux = np.append(otherside_without_flux,mp.get_fluxes(otherside))\n",
    "    upperside_without_flux = np.append(upperside_without_flux,mp.get_fluxes(upperside))\n",
    "    sim.reset_meep()\n",
    "\n",
    "    geometrys = [mp.Cylinder(material=Au,radius=r,center=mp.Vector3())]\n",
    "    sim = mp.Simulation(cell_size=cell,\n",
    "                    geometry=geometrys,\n",
    "                    boundary_layers=pml_layers,\n",
    "                    sources=sources,\n",
    "                    resolution=resolution)\n",
    "    lightside_fr = mp.FluxRegion(center=mp.Vector3(-0.2), \n",
    "                             size=mp.Vector3(0,0.4,0))\n",
    "    lightside = sim.add_flux(fcen, df ,nfreq,lightside_fr)\n",
    "    otherside_fr = mp.FluxRegion(center=mp.Vector3(+0.2), \n",
    "                             size=mp.Vector3(0,0.4,0))\n",
    "    otherside = sim.add_flux(fcen, df ,nfreq,otherside_fr)\n",
    "    upperside_fr = mp.FluxRegion(center=mp.Vector3(0,0.4),\n",
    "                                    size=mp.Vector3(0.4,0,0)) \n",
    "    upperside = sim.add_flux(fcen,df,nfreq,upperside_fr)\n",
    "    pt = mp.Vector3(0.5*sx-dpml-0.5,0)\n",
    "    sim.run(until_after_sources=mp.stop_when_fields_decayed(50,mp.Ez,pt,1e-3))\n",
    "    lightside_with_flux = np.append(lightside_with_flux,mp.get_fluxes(lightside))\n",
    "    otherside_with_flux = np.append(otherside_with_flux,mp.get_fluxes(otherside))\n",
    "    upperside_with_flux = np.append(upperside_with_flux,mp.get_fluxes(upperside))"
   ]
  },
  {
   "cell_type": "code",
   "execution_count": 5,
   "metadata": {},
   "outputs": [],
   "source": [
    "apsorbtions = (otherside_without_flux-otherside_with_flux)-(lightside_without_flux-lightside_with_flux)-2*(upperside_without_flux-upperside_with_flux)"
   ]
  },
  {
   "cell_type": "code",
   "execution_count": 6,
   "metadata": {},
   "outputs": [],
   "source": [
    "apsorbtions[np.arange(0,100)]=(apsorbtions[np.arange(0,100)]/(np.max(apsorbtions[np.arange(0,100)])))\n",
    "apsorbtions[np.arange(100,200)]=(apsorbtions[np.arange(100,200)]/(np.max(apsorbtions[np.arange(100,200)])))\n",
    "apsorbtions[np.arange(200,300)]=(apsorbtions[np.arange(200,300)]/(np.max(apsorbtions[np.arange(200,300)])))\n",
    "apsorbtions[np.arange(300,400)]=(apsorbtions[np.arange(300,400)]/(np.max(apsorbtions[np.arange(300,400)])))\n",
    "apsorbtions[np.arange(400,500)]=(apsorbtions[np.arange(400,500)]/(np.max(apsorbtions[np.arange(400,500)])))\n"
   ]
  },
  {
   "cell_type": "code",
   "execution_count": 7,
   "metadata": {},
   "outputs": [],
   "source": [
    "wavelengths = np.linspace(800,200,100) "
   ]
  },
  {
   "cell_type": "markdown",
   "metadata": {},
   "source": [
    "in early examples in meep documantation\n",
    "they uses for for substarctions but as I found we can use normal substraction\n",
    "also this aprroach is used in post-examples in meep "
   ]
  },
  {
   "cell_type": "code",
   "execution_count": 8,
   "metadata": {},
   "outputs": [
    {
     "data": {
      "image/png": "[encoded data removed]",
      "text/plain": [
       "<Figure size 432x288 with 1 Axes>"
      ]
     },
     "metadata": {
      "needs_background": "light"
     },
     "output_type": "display_data"
    }
   ],
   "source": [
    "plt.figure()\n",
    "plt.plot(wavelengths,apsorbtions[np.arange(0,100)],'r',label='absorbtion 20')\n",
    "plt.plot(wavelengths,apsorbtions[np.arange(100,200)],'g',label='absorbtion 40')\n",
    "plt.plot(wavelengths,apsorbtions[np.arange(200,300)],'b',label='absorbtion 60')\n",
    "plt.plot(wavelengths,apsorbtions[np.arange(300,400)],'y',label='absorbtion 80')\n",
    "plt.plot(wavelengths,apsorbtions[np.arange(400,500)],'p',label='absorbtion 100')\n",
    "plt.legend(loc=\"upper right\")\n",
    "plt.show()"
   ]
  },
  {
   "cell_type": "code",
   "execution_count": 9,
   "metadata": {},
   "outputs": [
    {
     "data": {
      "image/png": "[encoded data removed]",
      "text/plain": [
       "<Figure size 432x288 with 1 Axes>"
      ]
     },
     "metadata": {
      "needs_background": "light"
     },
     "output_type": "display_data"
    }
   ],
   "source": [
    "plt.figure()\n",
    "plt.plot(wavelengths,apsorbtions[np.arange(0,100)],'r',label='absorbtion 20')\n",
    "plt.plot(wavelengths,apsorbtions[np.arange(100,200)],'g',label='absorbtion 40')\n",
    "plt.plot(wavelengths,apsorbtions[np.arange(200,300)],'b',label='absorbtion 60')\n",
    "plt.plot(wavelengths,apsorbtions[np.arange(300,400)],'y',label='absorbtion 80')\n",
    "plt.plot(wavelengths,apsorbtions[np.arange(400,500)],'p',label='absorbtion 100')\n",
    "plt.legend(loc=\"upper right\")\n",
    "plt.xscale(\"log\")\n",
    "plt.show()"
   ]
  }
 ],
 "metadata": {
  "kernelspec": {
   "display_name": "Python 3",
   "language": "python",
   "name": "python3"
  },
  "language_info": {
   "codemirror_mode": {
    "name": "ipython",
    "version": 3
   },
   "file_extension": ".py",
   "mimetype": "text/x-python",
   "name": "python",
   "nbconvert_exporter": "python",
   "pygments_lexer": "ipython3",
   "version": "3.7.3"
  }
 },
 "nbformat": 4,
 "nbformat_minor": 2
}